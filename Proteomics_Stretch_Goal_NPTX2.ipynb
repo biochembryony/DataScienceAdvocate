{
 "cells": [
  {
   "cell_type": "markdown",
   "id": "c48f26c1",
   "metadata": {},
   "source": [
    "### **Goal: Use the Bader 2020 dataset to train a machine learning model which can test whether NPTX2 (identified as AD biomarker in Shen 2024, Cell) can be used to predict whether a patient has AD using CSF samples**"
   ]
  },
  {
   "cell_type": "markdown",
   "id": "a47c3fb8",
   "metadata": {},
   "source": [
    "**Background**\n",
    "\n",
    "Alzheimer's disease (AD) is a neurodegenerative disorder affecting millions of people worldwide. Approximately 1% of AD cases are classified as Autosomal dominant Alzheimer’s disease (ADAD), meaning they are caused by mutations to the genes *PSEN1*, *PSEN2*, or *APP*. Almost all people with these mutations will go on to develop AD, typically with a younger onset than those with sporadic Alzheimer's disease (sAD). With the genetic cause of ADAD generally understood but many causes of sAD unclear, studying the molecular basis of ADAD disease progression can inform how sAD may develop.\n",
    " \n",
    "Proteomics is an approach which involves looking at the entire complement of proteins expressed within a cell, tissue, or organism. Proteomics experiments can generate powerful molecular insights, such as by showing which proteins are up- or downregulated in different diseases. These experiments often generate very large datasets, which can be overwhelming to analyse. However, data science approaches such as machine learning can greatly enhance our ability to extract useful information from these datasets.\n",
    " \n",
    "A recent paper showcases how machine learning can be applied to proteomics datasets:\n",
    " \n",
    "https://doi.org/10.1016/j.cell.2024.08.049\n",
    " \n",
    "Using a cerebrospinal fluid (CSF) proteomics database taken from mutation carriers or non-carriers for ADAD, the authors sought to find biomarkers for the disease. The authors identify six proteins which can be used to predict with high accuracy whether a patient is a mutation carrier or a non-carrier for ADAD. One of these proteins is NPTX2.\n",
    " \n",
    "The study also reveals that many ADAD-associated proteins are associated with sAD as well, which could represent a large step forwards in diagnosis of sAD (the more common form of AD). **_Your task is to test whether this proposed biomarker for ADAD can also predict whether a patient has developed sAD._**\n",
    "\n",
    "\n",
    "**Questions**\n",
    "\n",
    "Patient X, aged 70, has visited their doctor with cognitive symptoms. After taking a CSF sample and performing mass spectrometry, the abundance of NPTX2 was detected as 321700.\n",
    " \n",
    "(Q1) Using the data from a publicly available database of CSF samples taken from healthy or AD patients, create an appropriate ML model to predict whether Patient X has Alzheimer's Disease. Comment on why you chose this model and how reliable it is.\n",
    " \n",
    "(Q2) Patient X does have AD. Did your model predict this? If not, why might this be?\n",
    " \n",
    "Data here:\n",
    " \n",
    "EMBO_Bader_2020_AD_proteomics.xlsx (Can also be found at https://www.embopress.org/doi/full/10.15252/msb.20199356#msb199356-sup-0001 - supplementary file EV1. Patient details = EV2)\n",
    " \n"
   ]
  },
  {
   "cell_type": "markdown",
   "id": "2e3777b6",
   "metadata": {},
   "source": [
    "**NB: This data requires pre-processing. You may like to do this yourself manually as an exercise in tidying data, or you can use the processed form here https://github.com/biochembryony/DataScienceAdvocate/blob/main/EMBO_Bader_2020_AD_proteomics_NPTX2_tidy.xlsx.** \n",
    "\n",
    "**See below for an explanation of how I processed the data.**"
   ]
  },
  {
   "cell_type": "markdown",
   "id": "1e4e2f3b",
   "metadata": {},
   "source": [
    "*Pre-processing of the data: This was challenging for three main complexities intrinsic to the original Excel spreadsheets found in the paper:*\n",
    "\n",
    "    1. The 1st spreadsheet in the supplementary info of the paper had all the protein abundances from the ~200 patients. However, there was no other information in this spreadsheet about the patients (not even disease status). Information about the patients was in a 2nd spreadsheet. \n",
    "    This second spreadsheet contained all the information including age, disease status, collection site, and gender. However, some patients had been deleted so that this 2nd spreadsheet had fewer patients, requiring the patients to be matched using the 'sample name' column.\n",
    "    \n",
    "    2. Missing values - a couple of the patients had missing values for NPTX2 (written as 'filtered'). For simplicity in this demonstration, I deleted these entries. However, this can introduce artifacts - see this course for more information on how to handle missing values: https://www.datacamp.com/tutorial/techniques-to-handle-missing-data-values\n",
    "    \n",
    "    3. In the 1st spreadsheet (proteomics dataset), 1000s proteins were all listed, with each protein in a separate row and each patient (with codified 'sample name') in a separate column. To tidy the data, I made a column for each variable, or feature (AD status, NPTX2 abundance, age, gender), with each patient, or observation, in a row.\n",
    "\n",
    "    \n",
    "*These processing steps produced the .xlsx file I used for all analysis in this notebook (Sheet1 of https://github.com/biochembryony/DataScienceAdvocate/blob/main/EMBO_Bader_2020_AD_proteomics_NPTX2_tidy.xlsx)"
   ]
  },
  {
   "cell_type": "markdown",
   "id": "fce6ec78",
   "metadata": {},
   "source": [
    "### **Worked example of analysis**"
   ]
  },
  {
   "cell_type": "markdown",
   "id": "94e7f8e6",
   "metadata": {},
   "source": [
    "**See below for a worked example, with additional exercises and questions to consider.**\n",
    "\n",
    "\n",
    "Importing pandas and reading Excel file"
   ]
  },
  {
   "cell_type": "code",
   "execution_count": 1,
   "id": "0e05f131",
   "metadata": {},
   "outputs": [],
   "source": [
    "import pandas as pd"
   ]
  },
  {
   "cell_type": "code",
   "execution_count": 2,
   "id": "aa644e49",
   "metadata": {},
   "outputs": [],
   "source": [
    "NPTX2_tidy = pd.read_excel(\"EMBO_Bader_2020_AD_proteomics_NPTX2_tidy.xlsx\")"
   ]
  },
  {
   "cell_type": "code",
   "execution_count": 3,
   "id": "44c79fd0",
   "metadata": {},
   "outputs": [
    {
     "data": {
      "text/html": [
       "<div>\n",
       "<style scoped>\n",
       "    .dataframe tbody tr th:only-of-type {\n",
       "        vertical-align: middle;\n",
       "    }\n",
       "\n",
       "    .dataframe tbody tr th {\n",
       "        vertical-align: top;\n",
       "    }\n",
       "\n",
       "    .dataframe thead th {\n",
       "        text-align: right;\n",
       "    }\n",
       "</style>\n",
       "<table border=\"1\" class=\"dataframe\">\n",
       "  <thead>\n",
       "    <tr style=\"text-align: right;\">\n",
       "      <th></th>\n",
       "      <th>Patient</th>\n",
       "      <th>Age</th>\n",
       "      <th>Gender</th>\n",
       "      <th>Collection site</th>\n",
       "      <th>AD status</th>\n",
       "      <th>NPTX2 abundance</th>\n",
       "      <th>sample name</th>\n",
       "    </tr>\n",
       "  </thead>\n",
       "  <tbody>\n",
       "    <tr>\n",
       "      <th>0</th>\n",
       "      <td>Patient 1</td>\n",
       "      <td>71</td>\n",
       "      <td>f</td>\n",
       "      <td>Sweden</td>\n",
       "      <td>control</td>\n",
       "      <td>226437.734375</td>\n",
       "      <td>20180618_QX0_JaBa_SA_LC12_5_CSF1_1_8-1xD1xS1fM...</td>\n",
       "    </tr>\n",
       "    <tr>\n",
       "      <th>1</th>\n",
       "      <td>Patient 2</td>\n",
       "      <td>77</td>\n",
       "      <td>m</td>\n",
       "      <td>Sweden</td>\n",
       "      <td>AD</td>\n",
       "      <td>123887.046875</td>\n",
       "      <td>20180618_QX0_JaBa_SA_LC12_5_CSF1_1_8-1xD1xS1fM...</td>\n",
       "    </tr>\n",
       "    <tr>\n",
       "      <th>2</th>\n",
       "      <td>Patient 3</td>\n",
       "      <td>75</td>\n",
       "      <td>m</td>\n",
       "      <td>Sweden</td>\n",
       "      <td>AD</td>\n",
       "      <td>391305.937500</td>\n",
       "      <td>20180618_QX0_JaBa_SA_LC12_5_CSF1_1_8-1xD1xS1fM...</td>\n",
       "    </tr>\n",
       "    <tr>\n",
       "      <th>3</th>\n",
       "      <td>Patient 4</td>\n",
       "      <td>72</td>\n",
       "      <td>f</td>\n",
       "      <td>Sweden</td>\n",
       "      <td>AD</td>\n",
       "      <td>296838.531250</td>\n",
       "      <td>20180618_QX0_JaBa_SA_LC12_5_CSF1_1_8-1xD1xS1fM...</td>\n",
       "    </tr>\n",
       "    <tr>\n",
       "      <th>4</th>\n",
       "      <td>Patient 5</td>\n",
       "      <td>63</td>\n",
       "      <td>f</td>\n",
       "      <td>Sweden</td>\n",
       "      <td>AD</td>\n",
       "      <td>211497.703125</td>\n",
       "      <td>20180618_QX0_JaBa_SA_LC12_5_CSF1_1_8-1xD1xS1fM...</td>\n",
       "    </tr>\n",
       "  </tbody>\n",
       "</table>\n",
       "</div>"
      ],
      "text/plain": [
       "      Patient  Age Gender Collection site AD status  NPTX2 abundance  \\\n",
       "0   Patient 1   71      f          Sweden   control    226437.734375   \n",
       "1  Patient 2    77      m          Sweden        AD    123887.046875   \n",
       "2   Patient 3   75      m          Sweden        AD    391305.937500   \n",
       "3   Patient 4   72      f          Sweden        AD    296838.531250   \n",
       "4   Patient 5   63      f          Sweden        AD    211497.703125   \n",
       "\n",
       "                                         sample name  \n",
       "0  20180618_QX0_JaBa_SA_LC12_5_CSF1_1_8-1xD1xS1fM...  \n",
       "1  20180618_QX0_JaBa_SA_LC12_5_CSF1_1_8-1xD1xS1fM...  \n",
       "2  20180618_QX0_JaBa_SA_LC12_5_CSF1_1_8-1xD1xS1fM...  \n",
       "3  20180618_QX0_JaBa_SA_LC12_5_CSF1_1_8-1xD1xS1fM...  \n",
       "4  20180618_QX0_JaBa_SA_LC12_5_CSF1_1_8-1xD1xS1fM...  "
      ]
     },
     "execution_count": 3,
     "metadata": {},
     "output_type": "execute_result"
    }
   ],
   "source": [
    "NPTX2_tidy.head()"
   ]
  },
  {
   "cell_type": "markdown",
   "id": "3e188292",
   "metadata": {},
   "source": [
    "Importing seaborn and visualising data"
   ]
  },
  {
   "cell_type": "code",
   "execution_count": 4,
   "id": "3db5a00b",
   "metadata": {},
   "outputs": [],
   "source": [
    "import seaborn as sns"
   ]
  },
  {
   "cell_type": "markdown",
   "id": "ca426239",
   "metadata": {},
   "source": [
    "Visualising the data (comparing NPTX2 abundance in control vs AD groups):"
   ]
  },
  {
   "cell_type": "markdown",
   "id": "490f4ee0",
   "metadata": {},
   "source": [
    "**_Open the data in Jupyter Notebooks. Use a suitable plot to visualise the distribution of NPTX2 abundance between the control and AD patients. What do you notice and what does this indicate about the suitability of this protein as a biomarker?_**"
   ]
  },
  {
   "cell_type": "code",
   "execution_count": 5,
   "id": "55a2d7ad",
   "metadata": {},
   "outputs": [
    {
     "data": {
      "text/plain": [
       "<seaborn.axisgrid.FacetGrid at 0x16073b3d0>"
      ]
     },
     "execution_count": 5,
     "metadata": {},
     "output_type": "execute_result"
    },
    {
     "data": {
      "image/png": "[encoded data removed]",
      "text/plain": [
       "<Figure size 500x500 with 1 Axes>"
      ]
     },
     "metadata": {},
     "output_type": "display_data"
    }
   ],
   "source": [
    "sns.catplot(data=NPTX2_tidy, x=\"AD status\", y=\"NPTX2 abundance\")"
   ]
  },
  {
   "cell_type": "markdown",
   "id": "92158ce0",
   "metadata": {},
   "source": [
    "From this initial glance, it is apparent that the two groups have similar distributions of NPTX2 abundance, which indicates that this may not be a good biomarker for AD status in this dataset, as we would expect AD patients to have higher levels of NPTX2. "
   ]
  },
  {
   "cell_type": "markdown",
   "id": "b6b0817e",
   "metadata": {},
   "source": [
    "**_Examine the data further - how are the different variables distributed (e.g. AD status, age, within different collection sites)?_**"
   ]
  },
  {
   "cell_type": "code",
   "execution_count": 6,
   "id": "276ffd58",
   "metadata": {},
   "outputs": [
    {
     "data": {
      "text/plain": [
       "Patient             object\n",
       "Age                  int64\n",
       "Gender              object\n",
       "Collection site     object\n",
       "AD status           object\n",
       "NPTX2 abundance    float64\n",
       "sample name         object\n",
       "dtype: object"
      ]
     },
     "execution_count": 6,
     "metadata": {},
     "output_type": "execute_result"
    }
   ],
   "source": [
    "NPTX2_tidy.dtypes #Checking data types. Object = categorical"
   ]
  },
  {
   "cell_type": "code",
   "execution_count": 7,
   "id": "c724021e",
   "metadata": {},
   "outputs": [],
   "source": [
    "x=NPTX2_tidy[\"AD status\"]\n",
    "y=NPTX2_tidy[\"NPTX2 abundance\"]"
   ]
  },
  {
   "cell_type": "code",
   "execution_count": 8,
   "id": "4f5a40e7",
   "metadata": {},
   "outputs": [
    {
     "data": {
      "text/plain": [
       "AD status\n",
       "control    108\n",
       "AD          87\n",
       "dtype: int64"
      ]
     },
     "execution_count": 8,
     "metadata": {},
     "output_type": "execute_result"
    }
   ],
   "source": [
    "NPTX2_tidy.value_counts(x) "
   ]
  },
  {
   "cell_type": "markdown",
   "id": "ea8e8529",
   "metadata": {},
   "source": [
    "**_This reveals that there are more AD than control patients - does this matter?_**"
   ]
  },
  {
   "cell_type": "code",
   "execution_count": 9,
   "id": "001d13ab",
   "metadata": {},
   "outputs": [
    {
     "name": "stderr",
     "output_type": "stream",
     "text": [
      "/var/folders/3s/w3gsthj94m31b9mclksddvw40000gq/T/ipykernel_42001/502040442.py:1: FutureWarning: The default value of numeric_only in DataFrameGroupBy.mean is deprecated. In a future version, numeric_only will default to False. Either specify numeric_only or select only columns which should be valid for the function.\n",
      "  NPTX2_tidy.groupby(by=[\"AD status\"]).mean() #Grouping by AD status to see how all numerical conditions vary across AD vs control\n"
     ]
    },
    {
     "data": {
      "text/html": [
       "<div>\n",
       "<style scoped>\n",
       "    .dataframe tbody tr th:only-of-type {\n",
       "        vertical-align: middle;\n",
       "    }\n",
       "\n",
       "    .dataframe tbody tr th {\n",
       "        vertical-align: top;\n",
       "    }\n",
       "\n",
       "    .dataframe thead th {\n",
       "        text-align: right;\n",
       "    }\n",
       "</style>\n",
       "<table border=\"1\" class=\"dataframe\">\n",
       "  <thead>\n",
       "    <tr style=\"text-align: right;\">\n",
       "      <th></th>\n",
       "      <th>Age</th>\n",
       "      <th>NPTX2 abundance</th>\n",
       "    </tr>\n",
       "    <tr>\n",
       "      <th>AD status</th>\n",
       "      <th></th>\n",
       "      <th></th>\n",
       "    </tr>\n",
       "  </thead>\n",
       "  <tbody>\n",
       "    <tr>\n",
       "      <th>AD</th>\n",
       "      <td>71.885057</td>\n",
       "      <td>214289.209052</td>\n",
       "    </tr>\n",
       "    <tr>\n",
       "      <th>control</th>\n",
       "      <td>64.407407</td>\n",
       "      <td>217592.649342</td>\n",
       "    </tr>\n",
       "  </tbody>\n",
       "</table>\n",
       "</div>"
      ],
      "text/plain": [
       "                 Age  NPTX2 abundance\n",
       "AD status                            \n",
       "AD         71.885057    214289.209052\n",
       "control    64.407407    217592.649342"
      ]
     },
     "execution_count": 9,
     "metadata": {},
     "output_type": "execute_result"
    }
   ],
   "source": [
    "NPTX2_tidy.groupby(by=[\"AD status\"]).mean() #Grouping by AD status to see how all numerical conditions vary across AD vs control"
   ]
  },
  {
   "cell_type": "markdown",
   "id": "64100dcd",
   "metadata": {},
   "source": [
    "**_Looking at the mean ages and NPTX2 abundances shows that the NPTX2 is very similar between the 2 groups (as mentioned earlier). Also, there is difference in age between the two groups - does this matter? How might this affect our interpretation of the data?_**"
   ]
  },
  {
   "cell_type": "code",
   "execution_count": 10,
   "id": "95530381",
   "metadata": {},
   "outputs": [
    {
     "data": {
      "text/plain": [
       "<seaborn.axisgrid.FacetGrid at 0x160965210>"
      ]
     },
     "execution_count": 10,
     "metadata": {},
     "output_type": "execute_result"
    },
    {
     "data": {
      "image/png": "[encoded data removed]",
      "text/plain": [
       "<Figure size 500x500 with 1 Axes>"
      ]
     },
     "metadata": {},
     "output_type": "display_data"
    }
   ],
   "source": [
    "sns.catplot(data=NPTX2_tidy, x=\"AD status\", y=\"Age\", hue=\"AD status\")"
   ]
  },
  {
   "cell_type": "markdown",
   "id": "c67f1cc6",
   "metadata": {},
   "source": [
    "This scatterplot also shows that the control group has a population of younger patients not present in the AD group. Let's see if that population clusters with another variable (e.g. collection site)"
   ]
  },
  {
   "cell_type": "code",
   "execution_count": 11,
   "id": "ebc54287",
   "metadata": {},
   "outputs": [
    {
     "data": {
      "text/html": [
       "<div>\n",
       "<style scoped>\n",
       "    .dataframe tbody tr th:only-of-type {\n",
       "        vertical-align: middle;\n",
       "    }\n",
       "\n",
       "    .dataframe tbody tr th {\n",
       "        vertical-align: top;\n",
       "    }\n",
       "\n",
       "    .dataframe thead th {\n",
       "        text-align: right;\n",
       "    }\n",
       "</style>\n",
       "<table border=\"1\" class=\"dataframe\">\n",
       "  <thead>\n",
       "    <tr style=\"text-align: right;\">\n",
       "      <th>Gender</th>\n",
       "      <th>f</th>\n",
       "      <th>m</th>\n",
       "    </tr>\n",
       "    <tr>\n",
       "      <th>AD status</th>\n",
       "      <th></th>\n",
       "      <th></th>\n",
       "    </tr>\n",
       "  </thead>\n",
       "  <tbody>\n",
       "    <tr>\n",
       "      <th>AD</th>\n",
       "      <td>48</td>\n",
       "      <td>39</td>\n",
       "    </tr>\n",
       "    <tr>\n",
       "      <th>control</th>\n",
       "      <td>50</td>\n",
       "      <td>58</td>\n",
       "    </tr>\n",
       "  </tbody>\n",
       "</table>\n",
       "</div>"
      ],
      "text/plain": [
       "Gender      f   m\n",
       "AD status        \n",
       "AD         48  39\n",
       "control    50  58"
      ]
     },
     "execution_count": 11,
     "metadata": {},
     "output_type": "execute_result"
    }
   ],
   "source": [
    "pd.crosstab(index=NPTX2_tidy[\"AD status\"], columns=NPTX2_tidy[\"Gender\"]) #The cross-tabulation allows you to look at the frequency distribution of multiple categorical variables, and see how they are related to one another"
   ]
  },
  {
   "cell_type": "code",
   "execution_count": 12,
   "id": "735cb29d",
   "metadata": {},
   "outputs": [
    {
     "data": {
      "text/plain": [
       "<seaborn.axisgrid.FacetGrid at 0x160a72ad0>"
      ]
     },
     "execution_count": 12,
     "metadata": {},
     "output_type": "execute_result"
    },
    {
     "data": {
      "image/png": "[encoded data removed]",
      "text/plain": [
       "<Figure size 628.875x500 with 1 Axes>"
      ]
     },
     "metadata": {},
     "output_type": "display_data"
    }
   ],
   "source": [
    "sns.catplot(data=NPTX2_tidy, x=\"AD status\", y=\"Age\", hue=\"Collection site\")"
   ]
  },
  {
   "cell_type": "code",
   "execution_count": 13,
   "id": "e9df6eef",
   "metadata": {},
   "outputs": [
    {
     "data": {
      "text/html": [
       "<div>\n",
       "<style scoped>\n",
       "    .dataframe tbody tr th:only-of-type {\n",
       "        vertical-align: middle;\n",
       "    }\n",
       "\n",
       "    .dataframe tbody tr th {\n",
       "        vertical-align: top;\n",
       "    }\n",
       "\n",
       "    .dataframe thead th {\n",
       "        text-align: right;\n",
       "    }\n",
       "</style>\n",
       "<table border=\"1\" class=\"dataframe\">\n",
       "  <thead>\n",
       "    <tr style=\"text-align: right;\">\n",
       "      <th>Collection site</th>\n",
       "      <th>Berlin</th>\n",
       "      <th>Kiel</th>\n",
       "      <th>Magdeburg</th>\n",
       "      <th>Sweden</th>\n",
       "    </tr>\n",
       "    <tr>\n",
       "      <th>AD status</th>\n",
       "      <th></th>\n",
       "      <th></th>\n",
       "      <th></th>\n",
       "      <th></th>\n",
       "    </tr>\n",
       "  </thead>\n",
       "  <tbody>\n",
       "    <tr>\n",
       "      <th>AD</th>\n",
       "      <td>32</td>\n",
       "      <td>0</td>\n",
       "      <td>26</td>\n",
       "      <td>29</td>\n",
       "    </tr>\n",
       "    <tr>\n",
       "      <th>control</th>\n",
       "      <td>50</td>\n",
       "      <td>16</td>\n",
       "      <td>12</td>\n",
       "      <td>30</td>\n",
       "    </tr>\n",
       "  </tbody>\n",
       "</table>\n",
       "</div>"
      ],
      "text/plain": [
       "Collection site  Berlin  Kiel  Magdeburg  Sweden\n",
       "AD status                                       \n",
       "AD                   32     0         26      29\n",
       "control              50    16         12      30"
      ]
     },
     "execution_count": 13,
     "metadata": {},
     "output_type": "execute_result"
    }
   ],
   "source": [
    "pd.crosstab(index=NPTX2_tidy[\"AD status\"], columns=NPTX2_tidy[\"Collection site\"])"
   ]
  },
  {
   "cell_type": "markdown",
   "id": "6cad1096",
   "metadata": {},
   "source": [
    "**_This shows that all of the patients from the Kiel subset are control -- there are no AD patients -- and this cohort is disproportionately younger than the other chorts. How might this affect the dataset, or the way that we analyse it?_**\n",
    "\n",
    "**_As an extension task, after you fit your model the first time, try it without the Kiel dataset. Does this affect your result?_**"
   ]
  },
  {
   "cell_type": "code",
   "execution_count": 14,
   "id": "b7c41766",
   "metadata": {},
   "outputs": [
    {
     "data": {
      "text/html": [
       "<div>\n",
       "<style scoped>\n",
       "    .dataframe tbody tr th:only-of-type {\n",
       "        vertical-align: middle;\n",
       "    }\n",
       "\n",
       "    .dataframe tbody tr th {\n",
       "        vertical-align: top;\n",
       "    }\n",
       "\n",
       "    .dataframe thead th {\n",
       "        text-align: right;\n",
       "    }\n",
       "</style>\n",
       "<table border=\"1\" class=\"dataframe\">\n",
       "  <thead>\n",
       "    <tr style=\"text-align: right;\">\n",
       "      <th></th>\n",
       "      <th>Patient</th>\n",
       "      <th>Age</th>\n",
       "      <th>Gender</th>\n",
       "      <th>Collection site</th>\n",
       "      <th>AD status</th>\n",
       "      <th>NPTX2 abundance</th>\n",
       "      <th>sample name</th>\n",
       "    </tr>\n",
       "  </thead>\n",
       "  <tbody>\n",
       "    <tr>\n",
       "      <th>0</th>\n",
       "      <td>Patient 1</td>\n",
       "      <td>71</td>\n",
       "      <td>f</td>\n",
       "      <td>Sweden</td>\n",
       "      <td>control</td>\n",
       "      <td>226437.734375</td>\n",
       "      <td>20180618_QX0_JaBa_SA_LC12_5_CSF1_1_8-1xD1xS1fM...</td>\n",
       "    </tr>\n",
       "    <tr>\n",
       "      <th>1</th>\n",
       "      <td>Patient 2</td>\n",
       "      <td>77</td>\n",
       "      <td>m</td>\n",
       "      <td>Sweden</td>\n",
       "      <td>AD</td>\n",
       "      <td>123887.046875</td>\n",
       "      <td>20180618_QX0_JaBa_SA_LC12_5_CSF1_1_8-1xD1xS1fM...</td>\n",
       "    </tr>\n",
       "    <tr>\n",
       "      <th>2</th>\n",
       "      <td>Patient 3</td>\n",
       "      <td>75</td>\n",
       "      <td>m</td>\n",
       "      <td>Sweden</td>\n",
       "      <td>AD</td>\n",
       "      <td>391305.937500</td>\n",
       "      <td>20180618_QX0_JaBa_SA_LC12_5_CSF1_1_8-1xD1xS1fM...</td>\n",
       "    </tr>\n",
       "    <tr>\n",
       "      <th>3</th>\n",
       "      <td>Patient 4</td>\n",
       "      <td>72</td>\n",
       "      <td>f</td>\n",
       "      <td>Sweden</td>\n",
       "      <td>AD</td>\n",
       "      <td>296838.531250</td>\n",
       "      <td>20180618_QX0_JaBa_SA_LC12_5_CSF1_1_8-1xD1xS1fM...</td>\n",
       "    </tr>\n",
       "    <tr>\n",
       "      <th>4</th>\n",
       "      <td>Patient 5</td>\n",
       "      <td>63</td>\n",
       "      <td>f</td>\n",
       "      <td>Sweden</td>\n",
       "      <td>AD</td>\n",
       "      <td>211497.703125</td>\n",
       "      <td>20180618_QX0_JaBa_SA_LC12_5_CSF1_1_8-1xD1xS1fM...</td>\n",
       "    </tr>\n",
       "  </tbody>\n",
       "</table>\n",
       "</div>"
      ],
      "text/plain": [
       "      Patient  Age Gender Collection site AD status  NPTX2 abundance  \\\n",
       "0   Patient 1   71      f          Sweden   control    226437.734375   \n",
       "1  Patient 2    77      m          Sweden        AD    123887.046875   \n",
       "2   Patient 3   75      m          Sweden        AD    391305.937500   \n",
       "3   Patient 4   72      f          Sweden        AD    296838.531250   \n",
       "4   Patient 5   63      f          Sweden        AD    211497.703125   \n",
       "\n",
       "                                         sample name  \n",
       "0  20180618_QX0_JaBa_SA_LC12_5_CSF1_1_8-1xD1xS1fM...  \n",
       "1  20180618_QX0_JaBa_SA_LC12_5_CSF1_1_8-1xD1xS1fM...  \n",
       "2  20180618_QX0_JaBa_SA_LC12_5_CSF1_1_8-1xD1xS1fM...  \n",
       "3  20180618_QX0_JaBa_SA_LC12_5_CSF1_1_8-1xD1xS1fM...  \n",
       "4  20180618_QX0_JaBa_SA_LC12_5_CSF1_1_8-1xD1xS1fM...  "
      ]
     },
     "execution_count": 14,
     "metadata": {},
     "output_type": "execute_result"
    }
   ],
   "source": [
    "df = pd.DataFrame(NPTX2_tidy)\n",
    "df.head()"
   ]
  },
  {
   "cell_type": "markdown",
   "id": "ace869b8",
   "metadata": {},
   "source": [
    "To perform machine learning, I am using k-nearest neighbours as we are predicting categories of data (AD or healthy)\n",
    "\n",
    "To use k-nearest neighbours, we need to encode our data into a binary form which the algorithms can process:"
   ]
  },
  {
   "cell_type": "code",
   "execution_count": 15,
   "id": "6f5351a2",
   "metadata": {},
   "outputs": [
    {
     "data": {
      "text/html": [
       "<div>\n",
       "<style scoped>\n",
       "    .dataframe tbody tr th:only-of-type {\n",
       "        vertical-align: middle;\n",
       "    }\n",
       "\n",
       "    .dataframe tbody tr th {\n",
       "        vertical-align: top;\n",
       "    }\n",
       "\n",
       "    .dataframe thead th {\n",
       "        text-align: right;\n",
       "    }\n",
       "</style>\n",
       "<table border=\"1\" class=\"dataframe\">\n",
       "  <thead>\n",
       "    <tr style=\"text-align: right;\">\n",
       "      <th></th>\n",
       "      <th>AD</th>\n",
       "      <th>control</th>\n",
       "    </tr>\n",
       "  </thead>\n",
       "  <tbody>\n",
       "    <tr>\n",
       "      <th>0</th>\n",
       "      <td>0</td>\n",
       "      <td>1</td>\n",
       "    </tr>\n",
       "    <tr>\n",
       "      <th>1</th>\n",
       "      <td>1</td>\n",
       "      <td>0</td>\n",
       "    </tr>\n",
       "    <tr>\n",
       "      <th>2</th>\n",
       "      <td>1</td>\n",
       "      <td>0</td>\n",
       "    </tr>\n",
       "    <tr>\n",
       "      <th>3</th>\n",
       "      <td>1</td>\n",
       "      <td>0</td>\n",
       "    </tr>\n",
       "    <tr>\n",
       "      <th>4</th>\n",
       "      <td>1</td>\n",
       "      <td>0</td>\n",
       "    </tr>\n",
       "  </tbody>\n",
       "</table>\n",
       "</div>"
      ],
      "text/plain": [
       "   AD  control\n",
       "0   0        1\n",
       "1   1        0\n",
       "2   1        0\n",
       "3   1        0\n",
       "4   1        0"
      ]
     },
     "execution_count": 15,
     "metadata": {},
     "output_type": "execute_result"
    }
   ],
   "source": [
    "df_encoded = pd.get_dummies(df[\"AD status\"])\n",
    "df_encoded .head()"
   ]
  },
  {
   "cell_type": "markdown",
   "id": "d1c79665",
   "metadata": {},
   "source": [
    "Now concatenating the two data frames:"
   ]
  },
  {
   "cell_type": "code",
   "execution_count": 16,
   "id": "d09cd6a0",
   "metadata": {},
   "outputs": [
    {
     "data": {
      "text/html": [
       "<div>\n",
       "<style scoped>\n",
       "    .dataframe tbody tr th:only-of-type {\n",
       "        vertical-align: middle;\n",
       "    }\n",
       "\n",
       "    .dataframe tbody tr th {\n",
       "        vertical-align: top;\n",
       "    }\n",
       "\n",
       "    .dataframe thead th {\n",
       "        text-align: right;\n",
       "    }\n",
       "</style>\n",
       "<table border=\"1\" class=\"dataframe\">\n",
       "  <thead>\n",
       "    <tr style=\"text-align: right;\">\n",
       "      <th></th>\n",
       "      <th>AD</th>\n",
       "      <th>control</th>\n",
       "      <th>Patient</th>\n",
       "      <th>Age</th>\n",
       "      <th>Gender</th>\n",
       "      <th>Collection site</th>\n",
       "      <th>AD status</th>\n",
       "      <th>NPTX2 abundance</th>\n",
       "      <th>sample name</th>\n",
       "    </tr>\n",
       "  </thead>\n",
       "  <tbody>\n",
       "    <tr>\n",
       "      <th>0</th>\n",
       "      <td>0</td>\n",
       "      <td>1</td>\n",
       "      <td>Patient 1</td>\n",
       "      <td>71</td>\n",
       "      <td>f</td>\n",
       "      <td>Sweden</td>\n",
       "      <td>control</td>\n",
       "      <td>226437.734375</td>\n",
       "      <td>20180618_QX0_JaBa_SA_LC12_5_CSF1_1_8-1xD1xS1fM...</td>\n",
       "    </tr>\n",
       "    <tr>\n",
       "      <th>1</th>\n",
       "      <td>1</td>\n",
       "      <td>0</td>\n",
       "      <td>Patient 2</td>\n",
       "      <td>77</td>\n",
       "      <td>m</td>\n",
       "      <td>Sweden</td>\n",
       "      <td>AD</td>\n",
       "      <td>123887.046875</td>\n",
       "      <td>20180618_QX0_JaBa_SA_LC12_5_CSF1_1_8-1xD1xS1fM...</td>\n",
       "    </tr>\n",
       "    <tr>\n",
       "      <th>2</th>\n",
       "      <td>1</td>\n",
       "      <td>0</td>\n",
       "      <td>Patient 3</td>\n",
       "      <td>75</td>\n",
       "      <td>m</td>\n",
       "      <td>Sweden</td>\n",
       "      <td>AD</td>\n",
       "      <td>391305.937500</td>\n",
       "      <td>20180618_QX0_JaBa_SA_LC12_5_CSF1_1_8-1xD1xS1fM...</td>\n",
       "    </tr>\n",
       "    <tr>\n",
       "      <th>3</th>\n",
       "      <td>1</td>\n",
       "      <td>0</td>\n",
       "      <td>Patient 4</td>\n",
       "      <td>72</td>\n",
       "      <td>f</td>\n",
       "      <td>Sweden</td>\n",
       "      <td>AD</td>\n",
       "      <td>296838.531250</td>\n",
       "      <td>20180618_QX0_JaBa_SA_LC12_5_CSF1_1_8-1xD1xS1fM...</td>\n",
       "    </tr>\n",
       "    <tr>\n",
       "      <th>4</th>\n",
       "      <td>1</td>\n",
       "      <td>0</td>\n",
       "      <td>Patient 5</td>\n",
       "      <td>63</td>\n",
       "      <td>f</td>\n",
       "      <td>Sweden</td>\n",
       "      <td>AD</td>\n",
       "      <td>211497.703125</td>\n",
       "      <td>20180618_QX0_JaBa_SA_LC12_5_CSF1_1_8-1xD1xS1fM...</td>\n",
       "    </tr>\n",
       "  </tbody>\n",
       "</table>\n",
       "</div>"
      ],
      "text/plain": [
       "   AD  control     Patient  Age Gender Collection site AD status  \\\n",
       "0   0        1   Patient 1   71      f          Sweden   control   \n",
       "1   1        0  Patient 2    77      m          Sweden        AD   \n",
       "2   1        0   Patient 3   75      m          Sweden        AD   \n",
       "3   1        0   Patient 4   72      f          Sweden        AD   \n",
       "4   1        0   Patient 5   63      f          Sweden        AD   \n",
       "\n",
       "   NPTX2 abundance                                        sample name  \n",
       "0    226437.734375  20180618_QX0_JaBa_SA_LC12_5_CSF1_1_8-1xD1xS1fM...  \n",
       "1    123887.046875  20180618_QX0_JaBa_SA_LC12_5_CSF1_1_8-1xD1xS1fM...  \n",
       "2    391305.937500  20180618_QX0_JaBa_SA_LC12_5_CSF1_1_8-1xD1xS1fM...  \n",
       "3    296838.531250  20180618_QX0_JaBa_SA_LC12_5_CSF1_1_8-1xD1xS1fM...  \n",
       "4    211497.703125  20180618_QX0_JaBa_SA_LC12_5_CSF1_1_8-1xD1xS1fM...  "
      ]
     },
     "execution_count": 16,
     "metadata": {},
     "output_type": "execute_result"
    }
   ],
   "source": [
    "binary = pd.concat([df_encoded, df], axis=1)\n",
    "binary.head()"
   ]
  },
  {
   "cell_type": "markdown",
   "id": "2c5cb0b2",
   "metadata": {},
   "source": [
    "Visualising the data, plotting age against NPTX2 abundance"
   ]
  },
  {
   "cell_type": "code",
   "execution_count": 17,
   "id": "65353b49",
   "metadata": {},
   "outputs": [
    {
     "data": {
      "text/plain": [
       "<Axes: xlabel='Age', ylabel='NPTX2 abundance'>"
      ]
     },
     "execution_count": 17,
     "metadata": {},
     "output_type": "execute_result"
    },
    {
     "data": {
      "image/png": "[encoded data removed]",
      "text/plain": [
       "<Figure size 640x480 with 1 Axes>"
      ]
     },
     "metadata": {},
     "output_type": "display_data"
    }
   ],
   "source": [
    "sns.scatterplot(data=binary, x=\"Age\", y=\"NPTX2 abundance\", hue=\"AD\", palette=\"Dark2\")"
   ]
  },
  {
   "cell_type": "code",
   "execution_count": 18,
   "id": "e917e847",
   "metadata": {},
   "outputs": [],
   "source": [
    "X = binary[[\"Age\", \"NPTX2 abundance\"]]\n",
    "y = binary[\"AD\"]"
   ]
  },
  {
   "cell_type": "code",
   "execution_count": 19,
   "id": "953c925b",
   "metadata": {},
   "outputs": [],
   "source": [
    "from sklearn.model_selection import train_test_split\n",
    "\n",
    "train_X, test_X, train_y, test_y = train_test_split(X, y)"
   ]
  },
  {
   "cell_type": "code",
   "execution_count": 20,
   "id": "8a784a1d",
   "metadata": {},
   "outputs": [
    {
     "data": {
      "text/html": [
       "<style>#sk-container-id-1 {color: black;background-color: white;}#sk-container-id-1 pre{padding: 0;}#sk-container-id-1 div.sk-toggleable {background-color: white;}#sk-container-id-1 label.sk-toggleable__label {cursor: pointer;display: block;width: 100%;margin-bottom: 0;padding: 0.3em;box-sizing: border-box;text-align: center;}#sk-container-id-1 label.sk-toggleable__label-arrow:before {content: \"▸\";float: left;margin-right: 0.25em;color: #696969;}#sk-container-id-1 label.sk-toggleable__label-arrow:hover:before {color: black;}#sk-container-id-1 div.sk-estimator:hover label.sk-toggleable__label-arrow:before {color: black;}#sk-container-id-1 div.sk-toggleable__content {max-height: 0;max-width: 0;overflow: hidden;text-align: left;background-color: #f0f8ff;}#sk-container-id-1 div.sk-toggleable__content pre {margin: 0.2em;color: black;border-radius: 0.25em;background-color: #f0f8ff;}#sk-container-id-1 input.sk-toggleable__control:checked~div.sk-toggleable__content {max-height: 200px;max-width: 100%;overflow: auto;}#sk-container-id-1 input.sk-toggleable__control:checked~label.sk-toggleable__label-arrow:before {content: \"▾\";}#sk-container-id-1 div.sk-estimator input.sk-toggleable__control:checked~label.sk-toggleable__label {background-color: #d4ebff;}#sk-container-id-1 div.sk-label input.sk-toggleable__control:checked~label.sk-toggleable__label {background-color: #d4ebff;}#sk-container-id-1 input.sk-hidden--visually {border: 0;clip: rect(1px 1px 1px 1px);clip: rect(1px, 1px, 1px, 1px);height: 1px;margin: -1px;overflow: hidden;padding: 0;position: absolute;width: 1px;}#sk-container-id-1 div.sk-estimator {font-family: monospace;background-color: #f0f8ff;border: 1px dotted black;border-radius: 0.25em;box-sizing: border-box;margin-bottom: 0.5em;}#sk-container-id-1 div.sk-estimator:hover {background-color: #d4ebff;}#sk-container-id-1 div.sk-parallel-item::after {content: \"\";width: 100%;border-bottom: 1px solid gray;flex-grow: 1;}#sk-container-id-1 div.sk-label:hover label.sk-toggleable__label {background-color: #d4ebff;}#sk-container-id-1 div.sk-serial::before {content: \"\";position: absolute;border-left: 1px solid gray;box-sizing: border-box;top: 0;bottom: 0;left: 50%;z-index: 0;}#sk-container-id-1 div.sk-serial {display: flex;flex-direction: column;align-items: center;background-color: white;padding-right: 0.2em;padding-left: 0.2em;position: relative;}#sk-container-id-1 div.sk-item {position: relative;z-index: 1;}#sk-container-id-1 div.sk-parallel {display: flex;align-items: stretch;justify-content: center;background-color: white;position: relative;}#sk-container-id-1 div.sk-item::before, #sk-container-id-1 div.sk-parallel-item::before {content: \"\";position: absolute;border-left: 1px solid gray;box-sizing: border-box;top: 0;bottom: 0;left: 50%;z-index: -1;}#sk-container-id-1 div.sk-parallel-item {display: flex;flex-direction: column;z-index: 1;position: relative;background-color: white;}#sk-container-id-1 div.sk-parallel-item:first-child::after {align-self: flex-end;width: 50%;}#sk-container-id-1 div.sk-parallel-item:last-child::after {align-self: flex-start;width: 50%;}#sk-container-id-1 div.sk-parallel-item:only-child::after {width: 0;}#sk-container-id-1 div.sk-dashed-wrapped {border: 1px dashed gray;margin: 0 0.4em 0.5em 0.4em;box-sizing: border-box;padding-bottom: 0.4em;background-color: white;}#sk-container-id-1 div.sk-label label {font-family: monospace;font-weight: bold;display: inline-block;line-height: 1.2em;}#sk-container-id-1 div.sk-label-container {text-align: center;}#sk-container-id-1 div.sk-container {/* jupyter's `normalize.less` sets `[hidden] { display: none; }` but bootstrap.min.css set `[hidden] { display: none !important; }` so we also need the `!important` here to be able to override the default hidden behavior on the sphinx rendered scikit-learn.org. See: https://github.com/scikit-learn/scikit-learn/issues/21755 */display: inline-block !important;position: relative;}#sk-container-id-1 div.sk-text-repr-fallback {display: none;}</style><div id=\"sk-container-id-1\" class=\"sk-top-container\"><div class=\"sk-text-repr-fallback\"><pre>KNeighborsClassifier(n_neighbors=10)</pre><b>In a Jupyter environment, please rerun this cell to show the HTML representation or trust the notebook. <br />On GitHub, the HTML representation is unable to render, please try loading this page with nbviewer.org.</b></div><div class=\"sk-container\" hidden><div class=\"sk-item\"><div class=\"sk-estimator sk-toggleable\"><input class=\"sk-toggleable__control sk-hidden--visually\" id=\"sk-estimator-id-1\" type=\"checkbox\" checked><label for=\"sk-estimator-id-1\" class=\"sk-toggleable__label sk-toggleable__label-arrow\">KNeighborsClassifier</label><div class=\"sk-toggleable__content\"><pre>KNeighborsClassifier(n_neighbors=10)</pre></div></div></div></div></div>"
      ],
      "text/plain": [
       "KNeighborsClassifier(n_neighbors=10)"
      ]
     },
     "execution_count": 20,
     "metadata": {},
     "output_type": "execute_result"
    }
   ],
   "source": [
    "from sklearn.neighbors import KNeighborsClassifier\n",
    "\n",
    "model = KNeighborsClassifier(n_neighbors=10)\n",
    "model.fit(train_X, train_y)"
   ]
  },
  {
   "cell_type": "markdown",
   "id": "fcb17c2d",
   "metadata": {},
   "source": [
    "I am asking the question \"Is patient y 0 or 1 (negative or positive) for AD?\""
   ]
  },
  {
   "cell_type": "code",
   "execution_count": 21,
   "id": "99a7b3de",
   "metadata": {},
   "outputs": [
    {
     "data": {
      "text/html": [
       "<div>\n",
       "<style scoped>\n",
       "    .dataframe tbody tr th:only-of-type {\n",
       "        vertical-align: middle;\n",
       "    }\n",
       "\n",
       "    .dataframe tbody tr th {\n",
       "        vertical-align: top;\n",
       "    }\n",
       "\n",
       "    .dataframe thead th {\n",
       "        text-align: right;\n",
       "    }\n",
       "</style>\n",
       "<table border=\"1\" class=\"dataframe\">\n",
       "  <thead>\n",
       "    <tr style=\"text-align: right;\">\n",
       "      <th></th>\n",
       "      <th>Age</th>\n",
       "      <th>NPTX2 abundance</th>\n",
       "      <th>AD</th>\n",
       "    </tr>\n",
       "  </thead>\n",
       "  <tbody>\n",
       "    <tr>\n",
       "      <th>0</th>\n",
       "      <td>70</td>\n",
       "      <td>297500</td>\n",
       "      <td>1</td>\n",
       "    </tr>\n",
       "  </tbody>\n",
       "</table>\n",
       "</div>"
      ],
      "text/plain": [
       "   Age  NPTX2 abundance  AD\n",
       "0   70           297500   1"
      ]
     },
     "execution_count": 21,
     "metadata": {},
     "output_type": "execute_result"
    }
   ],
   "source": [
    "pred = pd.DataFrame({\"Age\": [70], \"NPTX2 abundance\":[297500]})  # Make a new DataFrame containing the X values\n",
    "pred[\"AD\"] = model.predict(pred)  # Make a prediction and add that data into the table\n",
    "pred"
   ]
  },
  {
   "cell_type": "markdown",
   "id": "54e4b124",
   "metadata": {},
   "source": [
    "**Now test the reliability of your model. What is your model score? Would you use this model on real patients? Comment on the quality of the data you used in this exercise**"
   ]
  },
  {
   "cell_type": "markdown",
   "id": "a2c47e18",
   "metadata": {},
   "source": [
    "Now testing the model:"
   ]
  },
  {
   "cell_type": "code",
   "execution_count": 22,
   "id": "30393b79",
   "metadata": {
    "scrolled": true
   },
   "outputs": [
    {
     "data": {
      "text/plain": [
       "0.5714285714285714"
      ]
     },
     "execution_count": 22,
     "metadata": {},
     "output_type": "execute_result"
    }
   ],
   "source": [
    "model.score(test_X, test_y)"
   ]
  },
  {
   "cell_type": "markdown",
   "id": "e7577f39",
   "metadata": {},
   "source": [
    "**What does a score of 0.57 mean? Is this a measure of model accuracy? What would the score of a random guess be?**"
   ]
  }
 ],
 "metadata": {
  "kernelspec": {
   "display_name": "Python 3 (ipykernel)",
   "language": "python",
   "name": "python3"
  },
  "language_info": {
   "codemirror_mode": {
    "name": "ipython",
    "version": 3
   },
   "file_extension": ".py",
   "mimetype": "text/x-python",
   "name": "python",
   "nbconvert_exporter": "python",
   "pygments_lexer": "ipython3",
   "version": "3.11.3"
  }
 },
 "nbformat": 4,
 "nbformat_minor": 5
}
